{
 "cells": [
  {
   "cell_type": "code",
   "execution_count": 7,
   "metadata": {},
   "outputs": [
    {
     "name": "stdout",
     "output_type": "stream",
     "text": [
      "enter magic square size (odd number):11\n",
      "\n",
      "\n",
      "[[ 56  69  82  95 108 121   2  15  28  41  54]\n",
      " [ 55  57  70  83  96 109 111   3  16  29  42]\n",
      " [ 43  45  58  71  84  97 110 112   4  17  30]\n",
      " [ 31  44  46  59  72  85  98 100 113   5  18]\n",
      " [ 19  32  34  47  60  73  86  99 101 114   6]\n",
      " [  7  20  33  35  48  61  74  87  89 102 115]\n",
      " [116   8  21  23  36  49  62  75  88  90 103]\n",
      " [104 117   9  22  24  37  50  63  76  78  91]\n",
      " [ 92 105 118  10  12  25  38  51  64  77  79]\n",
      " [ 80  93 106 119  11  13  26  39  52  65  67]\n",
      " [ 68  81  94 107 120   1  14  27  40  53  66]]\n",
      "\n",
      "the magic square sum is 671\n"
     ]
    }
   ],
   "source": [
    "#generates magic squares of any odd size\n",
    "import numpy as np\n",
    "\n",
    "def set_matrix(n):\n",
    "    matrix = np.random.randint(0,1,(n,n))*0\n",
    "    matrix_list = np.arange(1,n+1,1,int)\n",
    "    x = n-1\n",
    "    y = int(np.median(matrix_list))-1\n",
    "    matrix[x,y] = 1\n",
    "    for value in range(2,n*n+1):\n",
    "        if value % n != 1:\n",
    "            x = (x + 1) % n\n",
    "            y = (y + 1) % n\n",
    "            matrix[x,y] = value\n",
    "        elif value % n == 1:\n",
    "            x = x - 1\n",
    "            y = y\n",
    "            matrix[x,y] = value\n",
    "    return matrix\n",
    "\n",
    "def matrix_sum(n):\n",
    "    matrix_sum = int(((n**3) + n) / 2)\n",
    "    return matrix_sum\n",
    "\n",
    "def result(n):\n",
    "    print(set_matrix(n))\n",
    "    print(f\"\\nthe magic square sum is \" + str(matrix_sum(n)))\n",
    "\n",
    "n = int(input(\"enter magic square size (odd number):\"))\n",
    "print(\"\\n\")\n",
    "result(n)"
   ]
  },
  {
   "cell_type": "code",
   "execution_count": null,
   "metadata": {},
   "outputs": [],
   "source": []
  }
 ],
 "metadata": {
  "kernelspec": {
   "display_name": "Python 3",
   "language": "python",
   "name": "python3"
  },
  "language_info": {
   "codemirror_mode": {
    "name": "ipython",
    "version": 3
   },
   "file_extension": ".py",
   "mimetype": "text/x-python",
   "name": "python",
   "nbconvert_exporter": "python",
   "pygments_lexer": "ipython3",
   "version": "3.7.3"
  }
 },
 "nbformat": 4,
 "nbformat_minor": 2
}
