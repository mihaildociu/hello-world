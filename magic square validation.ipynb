{
 "cells": [
  {
   "cell_type": "code",
   "execution_count": 1,
   "metadata": {},
   "outputs": [
    {
     "name": "stdout",
     "output_type": "stream",
     "text": [
      "[[4 3 8]\n",
      " [9 5 1]\n",
      " [2 7 6]]\n",
      "This is a magic square of sum 15!\n"
     ]
    }
   ],
   "source": [
    "#make it work for any size s squares\n",
    "\n",
    "import numpy as np\n",
    "\n",
    "#input the s length square and transform it into a s*s length list\n",
    "magic_square = np.matrix([[4,3,8],\n",
    "                          [9,5,1],\n",
    "                          [2,7,6]])\n",
    "print(magic_square)\n",
    "\n",
    "magic_list = np.array(magic_square).flatten().tolist()\n",
    "size = len(magic_square)\n",
    "# enter a validation here to ensure a s by s matrix\n",
    "\n",
    "#validate the sum of rows, sum of columns, sum of diagonals:\n",
    "class square():\n",
    "\n",
    "    def row_sum():\n",
    "#check the sum of rows by selectinng every s block of list elements and validating their sum against the prior block\n",
    "        start = 0\n",
    "        end = size\n",
    "        for i in range(size-1):\n",
    "            prev_row_sum = np.sum(magic_list[start:end])\n",
    "            start += size\n",
    "            end += size\n",
    "            row_sum = np.sum(magic_list[start:end])\n",
    "            if prev_row_sum == row_sum:\n",
    "                row_sum = row_sum     \n",
    "            else:\n",
    "                row_sum = 0\n",
    "                break\n",
    "        return row_sum\n",
    "\n",
    "    def col_sum():\n",
    "#the matrix columns are identified as sublists of elements: [1, 1+s, 1+2s,..., 1+(s-1)s], [2, 2+s, 2+2s,..., 2+(s-1)s],...,[s, s+s, s+2s....s+(s-1)s]. The sum of the sublist elements is compared one by one with the row_sum.\n",
    "        start = 0\n",
    "        step = size\n",
    "        for i in range(size):\n",
    "            col_sum = np.sum(magic_list[start::step])\n",
    "            start += 1\n",
    "            if square.row_sum() == col_sum:\n",
    "                col_sum = col_sum\n",
    "            else:\n",
    "                col_sum = 0\n",
    "                break\n",
    "        return col_sum\n",
    "            \n",
    "\n",
    "    def diag_sum(list):\n",
    "#the left-to-right diagonal is the same as the right-to-left diagonal of the reversed list, thus the same algorithm cam be used for \n",
    "        step = 0\n",
    "        diag_sum = 0\n",
    "        for i in range(1,size+1):\n",
    "            diag_sum += list[step]\n",
    "            step = i * (size + 1)\n",
    "        return diag_sum\n",
    "\n",
    "#written in separate blocks, so that if any validation fails, the others are not run:\n",
    "    def check():\n",
    "        magic_list_reversed = magic_list[::-1]\n",
    "        if square.row_sum() == 0:\n",
    "            return False\n",
    "        elif square.col_sum() == 0:\n",
    "            return False\n",
    "        elif square.col_sum() == square.diag_sum(magic_list) == square.diag_sum(magic_list_reversed):\n",
    "            return True\n",
    "        else:\n",
    "            return False\n",
    "            \n",
    "if square.check():\n",
    "    print(f\"This is a magic square of sum \" + str(square.row_sum()) + \"!\")\n",
    "else:\n",
    "    print(f\"This is not a magic square!\")"
   ]
  },
  {
   "cell_type": "code",
   "execution_count": null,
   "metadata": {},
   "outputs": [],
   "source": []
  }
 ],
 "metadata": {
  "kernelspec": {
   "display_name": "Python 3",
   "language": "python",
   "name": "python3"
  },
  "language_info": {
   "codemirror_mode": {
    "name": "ipython",
    "version": 3
   },
   "file_extension": ".py",
   "mimetype": "text/x-python",
   "name": "python",
   "nbconvert_exporter": "python",
   "pygments_lexer": "ipython3",
   "version": "3.7.3"
  }
 },
 "nbformat": 4,
 "nbformat_minor": 2
}
